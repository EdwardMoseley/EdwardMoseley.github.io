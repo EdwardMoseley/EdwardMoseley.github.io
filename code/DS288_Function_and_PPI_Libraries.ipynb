{
  "nbformat": 4,
  "nbformat_minor": 0,
  "metadata": {
    "colab": {
      "provenance": []
    },
    "kernelspec": {
      "name": "python3",
      "display_name": "Python 3"
    },
    "language_info": {
      "name": "python"
    }
  },
  "cells": [
    {
      "cell_type": "markdown",
      "source": [
        "# GLIDER: function prediction from GLIDE-based neighborhoods\n",
        "\n",
        "Source: https://github.com/kap-devkota/GLIDER."
      ],
      "metadata": {
        "id": "wTyp3olLiCwS"
      }
    },
    {
      "cell_type": "code",
      "execution_count": null,
      "metadata": {
        "colab": {
          "base_uri": "https://localhost:8080/"
        },
        "id": "Lt8A5yM7hh4y",
        "outputId": "3e2e12c4-9007-4747-e2d9-fbda76d50b2c"
      },
      "outputs": [
        {
          "output_type": "stream",
          "name": "stdout",
          "text": [
            "Cloning into 'GLIDER'...\n",
            "remote: Enumerating objects: 355, done.\u001b[K\n",
            "remote: Counting objects: 100% (151/151), done.\u001b[K\n",
            "remote: Compressing objects: 100% (113/113), done.\u001b[K\n",
            "remote: Total 355 (delta 54), reused 129 (delta 33), pack-reused 204\u001b[K\n",
            "Receiving objects: 100% (355/355), 128.63 MiB | 19.11 MiB/s, done.\n",
            "Resolving deltas: 100% (62/62), done.\n",
            "Updating files: 100% (27/27), done.\n"
          ]
        }
      ],
      "source": [
        "!git clone https://github.com/kap-devkota/GLIDER/"
      ]
    },
    {
      "cell_type": "code",
      "source": [],
      "metadata": {
        "id": "p7C7OOlZKTfK"
      },
      "execution_count": null,
      "outputs": []
    },
    {
      "cell_type": "markdown",
      "source": [
        "# Topsy-Turvy: integrating a global view into sequence-based PPI prediction\n",
        "\n",
        "Source: https://cb.csail.mit.edu/cb/topsyturvy/"
      ],
      "metadata": {
        "id": "zyA1OQACiPIm"
      }
    },
    {
      "cell_type": "markdown",
      "source": [
        "## D-SCRIPT"
      ],
      "metadata": {
        "id": "GUOBy1Dqj9k2"
      }
    },
    {
      "cell_type": "markdown",
      "source": [
        "#### Clone Repo"
      ],
      "metadata": {
        "id": "HhFz69r6kEKl"
      }
    },
    {
      "cell_type": "code",
      "source": [
        "!git clone https://github.com/samsledje/D-SCRIPT.git"
      ],
      "metadata": {
        "colab": {
          "base_uri": "https://localhost:8080/"
        },
        "id": "2sRpx_Z6kBZ4",
        "outputId": "0ff0f0b2-c90c-4102-e4d1-1de24d3df5bf"
      },
      "execution_count": null,
      "outputs": [
        {
          "output_type": "stream",
          "name": "stdout",
          "text": [
            "Cloning into 'D-SCRIPT'...\n",
            "remote: Enumerating objects: 6006, done.\u001b[K\n",
            "remote: Counting objects: 100% (216/216), done.\u001b[K\n",
            "remote: Compressing objects: 100% (88/88), done.\u001b[K\n",
            "remote: Total 6006 (delta 157), reused 161 (delta 127), pack-reused 5790\u001b[K\n",
            "Receiving objects: 100% (6006/6006), 157.66 MiB | 14.90 MiB/s, done.\n",
            "Resolving deltas: 100% (3698/3698), done.\n"
          ]
        }
      ]
    },
    {
      "cell_type": "code",
      "source": [
        "# Move to the directory\n",
        "import os\n",
        "os.chdir(\"/content/D-SCRIPT\")"
      ],
      "metadata": {
        "id": "2G9YBpN1kH5x"
      },
      "execution_count": null,
      "outputs": []
    },
    {
      "cell_type": "code",
      "source": [
        "!ls"
      ],
      "metadata": {
        "colab": {
          "base_uri": "https://localhost:8080/"
        },
        "id": "NeBag6D-kYxb",
        "outputId": "0cbfae2c-0c3a-40ca-a714-7ee6d47f0b98"
      },
      "execution_count": null,
      "outputs": [
        {
          "output_type": "stream",
          "name": "stdout",
          "text": [
            "CHANGELOG.md  data  dscript\t     LICENSE\t     README.md\t       setup.py\n",
            "CITATION.cff  docs  environment.yml  pyproject.toml  requirements.txt\n"
          ]
        }
      ]
    },
    {
      "cell_type": "code",
      "source": [
        "# Need to install Bio first..\n",
        "!pip install Bio"
      ],
      "metadata": {
        "colab": {
          "base_uri": "https://localhost:8080/"
        },
        "id": "ZgC1UUdbmPU1",
        "outputId": "b7fc6bf3-3e71-43fd-d093-9cb301a1d81e"
      },
      "execution_count": null,
      "outputs": [
        {
          "output_type": "stream",
          "name": "stdout",
          "text": [
            "Looking in indexes: https://pypi.org/simple, https://us-python.pkg.dev/colab-wheels/public/simple/\n",
            "Collecting Bio\n",
            "  Downloading bio-1.5.9-py3-none-any.whl (276 kB)\n",
            "\u001b[2K     \u001b[90m━━━━━━━━━━━━━━━━━━━━━━━━━━━━━━━━━━━━━━━\u001b[0m \u001b[32m276.4/276.4 kB\u001b[0m \u001b[31m5.5 MB/s\u001b[0m eta \u001b[36m0:00:00\u001b[0m\n",
            "\u001b[?25hCollecting biopython>=1.80 (from Bio)\n",
            "  Downloading biopython-1.81-cp310-cp310-manylinux_2_17_x86_64.manylinux2014_x86_64.whl (3.1 MB)\n",
            "\u001b[2K     \u001b[90m━━━━━━━━━━━━━━━━━━━━━━━━━━━━━━━━━━━━━━━━\u001b[0m \u001b[32m3.1/3.1 MB\u001b[0m \u001b[31m46.6 MB/s\u001b[0m eta \u001b[36m0:00:00\u001b[0m\n",
            "\u001b[?25hRequirement already satisfied: requests in /usr/local/lib/python3.10/dist-packages (from Bio) (2.27.1)\n",
            "Requirement already satisfied: tqdm in /usr/local/lib/python3.10/dist-packages (from Bio) (4.65.0)\n",
            "Collecting mygene (from Bio)\n",
            "  Downloading mygene-3.2.2-py2.py3-none-any.whl (5.4 kB)\n",
            "Requirement already satisfied: pandas in /usr/local/lib/python3.10/dist-packages (from Bio) (1.5.3)\n",
            "Requirement already satisfied: pooch in /usr/local/lib/python3.10/dist-packages (from Bio) (1.6.0)\n",
            "Collecting gprofiler-official (from Bio)\n",
            "  Downloading gprofiler_official-1.0.0-py3-none-any.whl (9.3 kB)\n",
            "Requirement already satisfied: numpy in /usr/local/lib/python3.10/dist-packages (from biopython>=1.80->Bio) (1.22.4)\n",
            "Collecting biothings-client>=0.2.6 (from mygene->Bio)\n",
            "  Downloading biothings_client-0.3.0-py2.py3-none-any.whl (29 kB)\n",
            "Requirement already satisfied: python-dateutil>=2.8.1 in /usr/local/lib/python3.10/dist-packages (from pandas->Bio) (2.8.2)\n",
            "Requirement already satisfied: pytz>=2020.1 in /usr/local/lib/python3.10/dist-packages (from pandas->Bio) (2022.7.1)\n",
            "Requirement already satisfied: appdirs>=1.3.0 in /usr/local/lib/python3.10/dist-packages (from pooch->Bio) (1.4.4)\n",
            "Requirement already satisfied: packaging>=20.0 in /usr/local/lib/python3.10/dist-packages (from pooch->Bio) (23.1)\n",
            "Requirement already satisfied: urllib3<1.27,>=1.21.1 in /usr/local/lib/python3.10/dist-packages (from requests->Bio) (1.26.15)\n",
            "Requirement already satisfied: certifi>=2017.4.17 in /usr/local/lib/python3.10/dist-packages (from requests->Bio) (2022.12.7)\n",
            "Requirement already satisfied: charset-normalizer~=2.0.0 in /usr/local/lib/python3.10/dist-packages (from requests->Bio) (2.0.12)\n",
            "Requirement already satisfied: idna<4,>=2.5 in /usr/local/lib/python3.10/dist-packages (from requests->Bio) (3.4)\n",
            "Requirement already satisfied: six>=1.5 in /usr/local/lib/python3.10/dist-packages (from python-dateutil>=2.8.1->pandas->Bio) (1.16.0)\n",
            "Installing collected packages: biopython, gprofiler-official, biothings-client, mygene, Bio\n",
            "Successfully installed Bio-1.5.9 biopython-1.81 biothings-client-0.3.0 gprofiler-official-1.0.0 mygene-3.2.2\n"
          ]
        }
      ]
    },
    {
      "cell_type": "code",
      "source": [
        "# Build and Setup\n",
        "!python /content/D-SCRIPT/setup.py build"
      ],
      "metadata": {
        "colab": {
          "base_uri": "https://localhost:8080/"
        },
        "id": "Tu8krlvriRZN",
        "outputId": "0db8764a-460a-4220-e9ed-5a961d09b4f2"
      },
      "execution_count": null,
      "outputs": [
        {
          "output_type": "stream",
          "name": "stdout",
          "text": [
            "running build\n",
            "running build_py\n",
            "creating build\n",
            "creating build/lib\n",
            "creating build/lib/dscript\n",
            "copying dscript/language_model.py -> build/lib/dscript\n",
            "copying dscript/pretrained.py -> build/lib/dscript\n",
            "copying dscript/alphabets.py -> build/lib/dscript\n",
            "copying dscript/fasta.py -> build/lib/dscript\n",
            "copying dscript/utils.py -> build/lib/dscript\n",
            "copying dscript/__main__.py -> build/lib/dscript\n",
            "copying dscript/__init__.py -> build/lib/dscript\n",
            "copying dscript/glider.py -> build/lib/dscript\n",
            "creating build/lib/dscript/commands\n",
            "copying dscript/commands/embed.py -> build/lib/dscript/commands\n",
            "copying dscript/commands/train.py -> build/lib/dscript/commands\n",
            "copying dscript/commands/evaluate.py -> build/lib/dscript/commands\n",
            "copying dscript/commands/predict.py -> build/lib/dscript/commands\n",
            "copying dscript/commands/__init__.py -> build/lib/dscript/commands\n",
            "creating build/lib/dscript/models\n",
            "copying dscript/models/interaction.py -> build/lib/dscript/models\n",
            "copying dscript/models/contact.py -> build/lib/dscript/models\n",
            "copying dscript/models/__init__.py -> build/lib/dscript/models\n",
            "copying dscript/models/embedding.py -> build/lib/dscript/models\n",
            "running egg_info\n",
            "creating dscript.egg-info\n",
            "writing dscript.egg-info/PKG-INFO\n",
            "writing dependency_links to dscript.egg-info/dependency_links.txt\n",
            "writing entry points to dscript.egg-info/entry_points.txt\n",
            "writing requirements to dscript.egg-info/requires.txt\n",
            "writing top-level names to dscript.egg-info/top_level.txt\n",
            "writing manifest file 'dscript.egg-info/SOURCES.txt'\n",
            "reading manifest file 'dscript.egg-info/SOURCES.txt'\n",
            "adding license file 'LICENSE'\n",
            "writing manifest file 'dscript.egg-info/SOURCES.txt'\n"
          ]
        }
      ]
    },
    {
      "cell_type": "code",
      "source": [
        "# Install\n",
        "!python setup.py install"
      ],
      "metadata": {
        "colab": {
          "base_uri": "https://localhost:8080/"
        },
        "id": "OrALfmo8kWER",
        "outputId": "72bb3f40-e401-4bf3-bd83-b7a68be7931a"
      },
      "execution_count": null,
      "outputs": [
        {
          "output_type": "stream",
          "name": "stdout",
          "text": [
            "running install\n",
            "/usr/local/lib/python3.10/dist-packages/setuptools/_distutils/cmd.py:66: SetuptoolsDeprecationWarning: setup.py install is deprecated.\n",
            "!!\n",
            "\n",
            "        ********************************************************************************\n",
            "        Please avoid running ``setup.py`` directly.\n",
            "        Instead, use pypa/build, pypa/installer, pypa/build or\n",
            "        other standards-based tools.\n",
            "\n",
            "        See https://blog.ganssle.io/articles/2021/10/setup-py-deprecated.html for details.\n",
            "        ********************************************************************************\n",
            "\n",
            "!!\n",
            "  self.initialize_options()\n",
            "/usr/local/lib/python3.10/dist-packages/setuptools/_distutils/cmd.py:66: EasyInstallDeprecationWarning: easy_install command is deprecated.\n",
            "!!\n",
            "\n",
            "        ********************************************************************************\n",
            "        Please avoid running ``setup.py`` and ``easy_install``.\n",
            "        Instead, use pypa/build, pypa/installer, pypa/build or\n",
            "        other standards-based tools.\n",
            "\n",
            "        See https://github.com/pypa/setuptools/issues/917 for details.\n",
            "        ********************************************************************************\n",
            "\n",
            "!!\n",
            "  self.initialize_options()\n",
            "running bdist_egg\n",
            "running egg_info\n",
            "writing dscript.egg-info/PKG-INFO\n",
            "writing dependency_links to dscript.egg-info/dependency_links.txt\n",
            "writing entry points to dscript.egg-info/entry_points.txt\n",
            "writing requirements to dscript.egg-info/requires.txt\n",
            "writing top-level names to dscript.egg-info/top_level.txt\n",
            "reading manifest file 'dscript.egg-info/SOURCES.txt'\n",
            "adding license file 'LICENSE'\n",
            "writing manifest file 'dscript.egg-info/SOURCES.txt'\n",
            "installing library code to build/bdist.linux-x86_64/egg\n",
            "running install_lib\n",
            "running build_py\n",
            "creating build/bdist.linux-x86_64\n",
            "creating build/bdist.linux-x86_64/egg\n",
            "creating build/bdist.linux-x86_64/egg/dscript\n",
            "copying build/lib/dscript/language_model.py -> build/bdist.linux-x86_64/egg/dscript\n",
            "creating build/bdist.linux-x86_64/egg/dscript/commands\n",
            "copying build/lib/dscript/commands/embed.py -> build/bdist.linux-x86_64/egg/dscript/commands\n",
            "copying build/lib/dscript/commands/train.py -> build/bdist.linux-x86_64/egg/dscript/commands\n",
            "copying build/lib/dscript/commands/evaluate.py -> build/bdist.linux-x86_64/egg/dscript/commands\n",
            "copying build/lib/dscript/commands/predict.py -> build/bdist.linux-x86_64/egg/dscript/commands\n",
            "copying build/lib/dscript/commands/__init__.py -> build/bdist.linux-x86_64/egg/dscript/commands\n",
            "copying build/lib/dscript/pretrained.py -> build/bdist.linux-x86_64/egg/dscript\n",
            "copying build/lib/dscript/alphabets.py -> build/bdist.linux-x86_64/egg/dscript\n",
            "copying build/lib/dscript/fasta.py -> build/bdist.linux-x86_64/egg/dscript\n",
            "copying build/lib/dscript/utils.py -> build/bdist.linux-x86_64/egg/dscript\n",
            "copying build/lib/dscript/__main__.py -> build/bdist.linux-x86_64/egg/dscript\n",
            "creating build/bdist.linux-x86_64/egg/dscript/models\n",
            "copying build/lib/dscript/models/interaction.py -> build/bdist.linux-x86_64/egg/dscript/models\n",
            "copying build/lib/dscript/models/contact.py -> build/bdist.linux-x86_64/egg/dscript/models\n",
            "copying build/lib/dscript/models/__init__.py -> build/bdist.linux-x86_64/egg/dscript/models\n",
            "copying build/lib/dscript/models/embedding.py -> build/bdist.linux-x86_64/egg/dscript/models\n",
            "copying build/lib/dscript/__init__.py -> build/bdist.linux-x86_64/egg/dscript\n",
            "copying build/lib/dscript/glider.py -> build/bdist.linux-x86_64/egg/dscript\n",
            "byte-compiling build/bdist.linux-x86_64/egg/dscript/language_model.py to language_model.cpython-310.pyc\n",
            "byte-compiling build/bdist.linux-x86_64/egg/dscript/commands/embed.py to embed.cpython-310.pyc\n",
            "byte-compiling build/bdist.linux-x86_64/egg/dscript/commands/train.py to train.cpython-310.pyc\n",
            "byte-compiling build/bdist.linux-x86_64/egg/dscript/commands/evaluate.py to evaluate.cpython-310.pyc\n",
            "byte-compiling build/bdist.linux-x86_64/egg/dscript/commands/predict.py to predict.cpython-310.pyc\n",
            "byte-compiling build/bdist.linux-x86_64/egg/dscript/commands/__init__.py to __init__.cpython-310.pyc\n",
            "byte-compiling build/bdist.linux-x86_64/egg/dscript/pretrained.py to pretrained.cpython-310.pyc\n",
            "byte-compiling build/bdist.linux-x86_64/egg/dscript/alphabets.py to alphabets.cpython-310.pyc\n",
            "byte-compiling build/bdist.linux-x86_64/egg/dscript/fasta.py to fasta.cpython-310.pyc\n",
            "byte-compiling build/bdist.linux-x86_64/egg/dscript/utils.py to utils.cpython-310.pyc\n",
            "byte-compiling build/bdist.linux-x86_64/egg/dscript/__main__.py to __main__.cpython-310.pyc\n",
            "byte-compiling build/bdist.linux-x86_64/egg/dscript/models/interaction.py to interaction.cpython-310.pyc\n",
            "byte-compiling build/bdist.linux-x86_64/egg/dscript/models/contact.py to contact.cpython-310.pyc\n",
            "byte-compiling build/bdist.linux-x86_64/egg/dscript/models/__init__.py to __init__.cpython-310.pyc\n",
            "byte-compiling build/bdist.linux-x86_64/egg/dscript/models/embedding.py to embedding.cpython-310.pyc\n",
            "byte-compiling build/bdist.linux-x86_64/egg/dscript/__init__.py to __init__.cpython-310.pyc\n",
            "byte-compiling build/bdist.linux-x86_64/egg/dscript/glider.py to glider.cpython-310.pyc\n",
            "creating build/bdist.linux-x86_64/egg/EGG-INFO\n",
            "copying dscript.egg-info/PKG-INFO -> build/bdist.linux-x86_64/egg/EGG-INFO\n",
            "copying dscript.egg-info/SOURCES.txt -> build/bdist.linux-x86_64/egg/EGG-INFO\n",
            "copying dscript.egg-info/dependency_links.txt -> build/bdist.linux-x86_64/egg/EGG-INFO\n",
            "copying dscript.egg-info/entry_points.txt -> build/bdist.linux-x86_64/egg/EGG-INFO\n",
            "copying dscript.egg-info/requires.txt -> build/bdist.linux-x86_64/egg/EGG-INFO\n",
            "copying dscript.egg-info/top_level.txt -> build/bdist.linux-x86_64/egg/EGG-INFO\n",
            "zip_safe flag not set; analyzing archive contents...\n",
            "dscript.__pycache__.pretrained.cpython-310: module references __file__\n",
            "creating dist\n",
            "creating 'dist/dscript-0.2.2-py3.10.egg' and adding 'build/bdist.linux-x86_64/egg' to it\n",
            "removing 'build/bdist.linux-x86_64/egg' (and everything under it)\n",
            "Processing dscript-0.2.2-py3.10.egg\n",
            "creating /usr/local/lib/python3.10/dist-packages/dscript-0.2.2-py3.10.egg\n",
            "Extracting dscript-0.2.2-py3.10.egg to /usr/local/lib/python3.10/dist-packages\n",
            "Adding dscript 0.2.2 to easy-install.pth file\n",
            "Installing dscript script to /usr/local/bin\n",
            "\n",
            "Installed /usr/local/lib/python3.10/dist-packages/dscript-0.2.2-py3.10.egg\n",
            "Processing dependencies for dscript==0.2.2\n",
            "Searching for h5py==3.8.0\n",
            "Best match: h5py 3.8.0\n",
            "Adding h5py 3.8.0 to easy-install.pth file\n",
            "\n",
            "Using /usr/local/lib/python3.10/dist-packages\n",
            "Searching for scikit-learn==1.2.2\n",
            "Best match: scikit-learn 1.2.2\n",
            "Adding scikit-learn 1.2.2 to easy-install.pth file\n",
            "\n",
            "Using /usr/local/lib/python3.10/dist-packages\n",
            "Searching for tqdm==4.65.0\n",
            "Best match: tqdm 4.65.0\n",
            "Adding tqdm 4.65.0 to easy-install.pth file\n",
            "Installing tqdm script to /usr/local/bin\n",
            "\n",
            "Using /usr/local/lib/python3.10/dist-packages\n",
            "Searching for seaborn==0.12.2\n",
            "Best match: seaborn 0.12.2\n",
            "Adding seaborn 0.12.2 to easy-install.pth file\n",
            "\n",
            "Using /usr/local/lib/python3.10/dist-packages\n",
            "Searching for matplotlib==3.7.1\n",
            "Best match: matplotlib 3.7.1\n",
            "Adding matplotlib 3.7.1 to easy-install.pth file\n",
            "\n",
            "Using /usr/local/lib/python3.10/dist-packages\n",
            "Searching for biopython==1.81\n",
            "Best match: biopython 1.81\n",
            "Adding biopython 1.81 to easy-install.pth file\n",
            "\n",
            "Using /usr/local/lib/python3.10/dist-packages\n",
            "Searching for torch==2.0.1+cu118\n",
            "Best match: torch 2.0.1+cu118\n",
            "Adding torch 2.0.1+cu118 to easy-install.pth file\n",
            "Installing convert-caffe2-to-onnx script to /usr/local/bin\n",
            "Installing convert-onnx-to-caffe2 script to /usr/local/bin\n",
            "Installing torchrun script to /usr/local/bin\n",
            "\n",
            "Using /usr/local/lib/python3.10/dist-packages\n",
            "Searching for pandas==1.5.3\n",
            "Best match: pandas 1.5.3\n",
            "Adding pandas 1.5.3 to easy-install.pth file\n",
            "\n",
            "Using /usr/local/lib/python3.10/dist-packages\n",
            "Searching for scipy==1.10.1\n",
            "Best match: scipy 1.10.1\n",
            "Adding scipy 1.10.1 to easy-install.pth file\n",
            "\n",
            "Using /usr/local/lib/python3.10/dist-packages\n",
            "Searching for numpy==1.22.4\n",
            "Best match: numpy 1.22.4\n",
            "Adding numpy 1.22.4 to easy-install.pth file\n",
            "Installing f2py script to /usr/local/bin\n",
            "Installing f2py3 script to /usr/local/bin\n",
            "Installing f2py3.10 script to /usr/local/bin\n",
            "\n",
            "Using /usr/local/lib/python3.10/dist-packages\n",
            "Searching for threadpoolctl==3.1.0\n",
            "Best match: threadpoolctl 3.1.0\n",
            "Adding threadpoolctl 3.1.0 to easy-install.pth file\n",
            "\n",
            "Using /usr/local/lib/python3.10/dist-packages\n",
            "Searching for joblib==1.2.0\n",
            "Best match: joblib 1.2.0\n",
            "Adding joblib 1.2.0 to easy-install.pth file\n",
            "\n",
            "Using /usr/local/lib/python3.10/dist-packages\n",
            "Searching for python-dateutil==2.8.2\n",
            "Best match: python-dateutil 2.8.2\n",
            "Adding python-dateutil 2.8.2 to easy-install.pth file\n",
            "\n",
            "Using /usr/local/lib/python3.10/dist-packages\n",
            "Searching for pyparsing==3.0.9\n",
            "Best match: pyparsing 3.0.9\n",
            "Adding pyparsing 3.0.9 to easy-install.pth file\n",
            "\n",
            "Using /usr/local/lib/python3.10/dist-packages\n",
            "Searching for Pillow==8.4.0\n",
            "Best match: Pillow 8.4.0\n",
            "Adding Pillow 8.4.0 to easy-install.pth file\n",
            "\n",
            "Using /usr/local/lib/python3.10/dist-packages\n",
            "Searching for packaging==23.1\n",
            "Best match: packaging 23.1\n",
            "Adding packaging 23.1 to easy-install.pth file\n",
            "\n",
            "Using /usr/local/lib/python3.10/dist-packages\n",
            "Searching for kiwisolver==1.4.4\n",
            "Best match: kiwisolver 1.4.4\n",
            "Adding kiwisolver 1.4.4 to easy-install.pth file\n",
            "\n",
            "Using /usr/local/lib/python3.10/dist-packages\n",
            "Searching for fonttools==4.39.3\n",
            "Best match: fonttools 4.39.3\n",
            "Adding fonttools 4.39.3 to easy-install.pth file\n",
            "Installing fonttools script to /usr/local/bin\n",
            "Installing pyftmerge script to /usr/local/bin\n",
            "Installing pyftsubset script to /usr/local/bin\n",
            "Installing ttx script to /usr/local/bin\n",
            "\n",
            "Using /usr/local/lib/python3.10/dist-packages\n",
            "Searching for cycler==0.11.0\n",
            "Best match: cycler 0.11.0\n",
            "Adding cycler 0.11.0 to easy-install.pth file\n",
            "\n",
            "Using /usr/local/lib/python3.10/dist-packages\n",
            "Searching for contourpy==1.0.7\n",
            "Best match: contourpy 1.0.7\n",
            "Adding contourpy 1.0.7 to easy-install.pth file\n",
            "\n",
            "Using /usr/local/lib/python3.10/dist-packages\n",
            "Searching for triton==2.0.0\n",
            "Best match: triton 2.0.0\n",
            "Adding triton 2.0.0 to easy-install.pth file\n",
            "\n",
            "Using /usr/local/lib/python3.10/dist-packages\n",
            "Searching for Jinja2==3.1.2\n",
            "Best match: Jinja2 3.1.2\n",
            "Adding Jinja2 3.1.2 to easy-install.pth file\n",
            "\n",
            "Using /usr/local/lib/python3.10/dist-packages\n",
            "Searching for networkx==3.1\n",
            "Best match: networkx 3.1\n",
            "Adding networkx 3.1 to easy-install.pth file\n",
            "\n",
            "Using /usr/local/lib/python3.10/dist-packages\n",
            "Searching for sympy==1.11.1\n",
            "Best match: sympy 1.11.1\n",
            "Adding sympy 1.11.1 to easy-install.pth file\n",
            "Installing isympy script to /usr/local/bin\n",
            "\n",
            "Using /usr/local/lib/python3.10/dist-packages\n",
            "Searching for typing-extensions==4.5.0\n",
            "Best match: typing-extensions 4.5.0\n",
            "Adding typing-extensions 4.5.0 to easy-install.pth file\n",
            "\n",
            "Using /usr/local/lib/python3.10/dist-packages\n",
            "Searching for filelock==3.12.0\n",
            "Best match: filelock 3.12.0\n",
            "Adding filelock 3.12.0 to easy-install.pth file\n",
            "\n",
            "Using /usr/local/lib/python3.10/dist-packages\n",
            "Searching for pytz==2022.7.1\n",
            "Best match: pytz 2022.7.1\n",
            "Adding pytz 2022.7.1 to easy-install.pth file\n",
            "\n",
            "Using /usr/local/lib/python3.10/dist-packages\n",
            "Searching for six==1.16.0\n",
            "Best match: six 1.16.0\n",
            "Adding six 1.16.0 to easy-install.pth file\n",
            "\n",
            "Using /usr/local/lib/python3.10/dist-packages\n",
            "Searching for lit==16.0.5\n",
            "Best match: lit 16.0.5\n",
            "Adding lit 16.0.5 to easy-install.pth file\n",
            "Installing lit script to /usr/local/bin\n",
            "\n",
            "Using /usr/local/lib/python3.10/dist-packages\n",
            "Searching for cmake==3.25.2\n",
            "Best match: cmake 3.25.2\n",
            "Adding cmake 3.25.2 to easy-install.pth file\n",
            "Installing cmake script to /usr/local/bin\n",
            "Installing cpack script to /usr/local/bin\n",
            "Installing ctest script to /usr/local/bin\n",
            "\n",
            "Using /usr/local/lib/python3.10/dist-packages\n",
            "Searching for MarkupSafe==2.1.2\n",
            "Best match: MarkupSafe 2.1.2\n",
            "Adding MarkupSafe 2.1.2 to easy-install.pth file\n",
            "\n",
            "Using /usr/local/lib/python3.10/dist-packages\n",
            "Searching for mpmath==1.3.0\n",
            "Best match: mpmath 1.3.0\n",
            "Adding mpmath 1.3.0 to easy-install.pth file\n",
            "\n",
            "Using /usr/local/lib/python3.10/dist-packages\n",
            "Finished processing dependencies for dscript==0.2.2\n"
          ]
        }
      ]
    },
    {
      "cell_type": "markdown",
      "source": [
        "## Usage\n",
        "\n",
        "```\n",
        "dscript predict --pairs [input data] --seqs [sequences, .fasta format] --model [model file]\n",
        "```"
      ],
      "metadata": {
        "id": "jzTTzlI6IbuL"
      }
    },
    {
      "cell_type": "code",
      "source": [
        "!dscript predict --pairs [input data] --seqs [sequences, .fasta format] --model [model file]"
      ],
      "metadata": {
        "id": "aEaK-41tHc-p"
      },
      "execution_count": null,
      "outputs": []
    },
    {
      "cell_type": "code",
      "source": [],
      "metadata": {
        "id": "_RUJQXnzIaqo"
      },
      "execution_count": null,
      "outputs": []
    }
  ]
}